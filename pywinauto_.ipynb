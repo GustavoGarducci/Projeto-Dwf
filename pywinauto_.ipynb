{
 "cells": [
  {
   "cell_type": "code",
   "execution_count": 77,
   "metadata": {},
   "outputs": [],
   "source": [
    "import pyautogui\n",
    "import pyperclip\n",
    "import time\n",
    "from unidecode import unidecode"
   ]
  },
  {
   "cell_type": "code",
   "execution_count": 78,
   "metadata": {},
   "outputs": [],
   "source": [
    "caminho_dwf_para_abrir = input(r\"Qual o caminho do dwf que deseja abrir: \")\n",
    "caminho_corr = pyperclip.copy(caminho_dwf_para_abrir)\n"
   ]
  },
  {
   "cell_type": "code",
   "execution_count": 79,
   "metadata": {},
   "outputs": [],
   "source": [
    "def a():\n",
    "    pyautogui.hotkey('win', 'e')\n",
    "    time.sleep(1)   \n",
    "    pyautogui.hotkey('ctrl','l')\n",
    "\n",
    "def b():\n",
    "    caminho_corr = pyautogui.hotkey('ctrl', 'v')\n",
    "    pyautogui.press('enter')\n",
    "    \n",
    "def abrir_o_dwf_indicado_pelo_usuario():\n",
    "\n",
    "    a()\n",
    "    time.sleep(1)   \n",
    "    b()\n",
    "\n",
    "abrir_o_dwf_indicado_pelo_usuario()\n",
    "\n"
   ]
  },
  {
   "cell_type": "code",
   "execution_count": 3,
   "metadata": {},
   "outputs": [
    {
     "ename": "ImportError",
     "evalue": "cannot import name 'DwfDocument' from 'pydwf' (c:\\Users\\gusta\\AppData\\Local\\Programs\\Python\\Python311\\Lib\\site-packages\\pydwf\\__init__.py)",
     "output_type": "error",
     "traceback": [
      "\u001b[1;31m---------------------------------------------------------------------------\u001b[0m",
      "\u001b[1;31mImportError\u001b[0m                               Traceback (most recent call last)",
      "Cell \u001b[1;32mIn[3], line 1\u001b[0m\n\u001b[1;32m----> 1\u001b[0m \u001b[39mfrom\u001b[39;00m \u001b[39mpydwf\u001b[39;00m \u001b[39mimport\u001b[39;00m DwfDocument\n\u001b[0;32m      3\u001b[0m \u001b[39mdef\u001b[39;00m \u001b[39mextrair_lista_folhas\u001b[39m(caminho_arquivo_dwf):\n\u001b[0;32m      4\u001b[0m     \u001b[39m# Abre o arquivo DWF\u001b[39;00m\n\u001b[0;32m      5\u001b[0m     doc \u001b[39m=\u001b[39m DwfDocument(caminho_arquivo_dwf)\n",
      "\u001b[1;31mImportError\u001b[0m: cannot import name 'DwfDocument' from 'pydwf' (c:\\Users\\gusta\\AppData\\Local\\Programs\\Python\\Python311\\Lib\\site-packages\\pydwf\\__init__.py)"
     ]
    }
   ],
   "source": [
    "from dwfminiparser import DwfDocument\n",
    "\n",
    "def extrair_lista_folhas(caminho_arquivo_dwf):\n",
    "    # Abre o arquivo DWF\n",
    "    doc = DwfDocument(caminho_arquivo_dwf)\n",
    "\n",
    "    # Obtém a lista de folhas\n",
    "    lista_folhas = doc.sheet_names\n",
    "\n",
    "    return lista_folhas\n",
    "\n",
    "caminho_arquivo_dwf = r\"G:\\Drives compartilhados\\Projetos\\Tiza Engenharia - Sobrados\\Hidráulica\\Plt\\GUSTAVO__R01.dwf\"\n",
    "folhas = extrair_lista_folhas(caminho_arquivo_dwf)\n",
    "\n",
    "print(folhas)"
   ]
  },
  {
   "cell_type": "code",
   "execution_count": 81,
   "metadata": {},
   "outputs": [],
   "source": [
    "xxxxxxxxxxxx"
   ]
  }
 ],
 "metadata": {
  "kernelspec": {
   "display_name": "Python 3",
   "language": "python",
   "name": "python3"
  },
  "language_info": {
   "codemirror_mode": {
    "name": "ipython",
    "version": 3
   },
   "file_extension": ".py",
   "mimetype": "text/x-python",
   "name": "python",
   "nbconvert_exporter": "python",
   "pygments_lexer": "ipython3",
   "version": "3.11.3"
  },
  "orig_nbformat": 4
 },
 "nbformat": 4,
 "nbformat_minor": 2
}
